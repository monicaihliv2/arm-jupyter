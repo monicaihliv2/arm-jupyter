{
 "cells": [
  {
   "cell_type": "markdown",
   "id": "ebdd27e6-9c44-4dd4-bd87-ec12d06fcf58",
   "metadata": {},
   "source": [
    "# Welcome to ACE JupyterHub!\n",
    "***"
   ]
  },
  {
   "cell_type": "markdown",
   "id": "8eb9aeb0-85df-4046-9017-9e1ae03b5d56",
   "metadata": {},
   "source": [
    "This Jupyter Notebook server is provided to you courtesy of the ARM Computing Ecosystem (ACE). Remember that computing resources for this level of service are extremely limited, and any changes you make are not saved! \n",
    "\n",
    "You can apply for elevated computing resources if you want to use Jupyter to carry out a science project using ARM data. Find about more using the links below:\n",
    "\n",
    "-  ACE JupyterHub Terms of Service (How you can or cannot use this service)\n",
    "-  Apply for elevated computing resources.\n",
    "-  Learn more about Arm Computing Ecosystem (ACE)\n",
    "\n",
    "\n",
    "\n",
    "\n",
    "\n",
    "\n"
   ]
  },
  {
   "cell_type": "markdown",
   "id": "3d9a6f77-3663-4209-849d-6f13a83c7254",
   "metadata": {},
   "source": [
    "![title](img/ARM_Logo.jpg)"
   ]
  }
 ],
 "metadata": {
  "kernelspec": {
   "display_name": "Python 3 (ipykernel)",
   "language": "python",
   "name": "python3"
  },
  "language_info": {
   "codemirror_mode": {
    "name": "ipython",
    "version": 3
   },
   "file_extension": ".py",
   "mimetype": "text/x-python",
   "name": "python",
   "nbconvert_exporter": "python",
   "pygments_lexer": "ipython3",
   "version": "3.10.6"
  }
 },
 "nbformat": 4,
 "nbformat_minor": 5
}
